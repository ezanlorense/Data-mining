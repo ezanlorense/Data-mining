{
 "cells": [
  {
   "cell_type": "code",
   "execution_count": null,
   "metadata": {},
   "outputs": [],
   "source": [
    "pip install plotly"
   ]
  },
  {
   "cell_type": "code",
   "execution_count": 1,
   "metadata": {},
   "outputs": [
    {
     "data": {
      "text/html": [
       "        <script type=\"text/javascript\">\n",
       "        window.PlotlyConfig = {MathJaxConfig: 'local'};\n",
       "        if (window.MathJax && window.MathJax.Hub && window.MathJax.Hub.Config) {window.MathJax.Hub.Config({SVG: {font: \"STIX-Web\"}});}\n",
       "        if (typeof require !== 'undefined') {\n",
       "        require.undef(\"plotly\");\n",
       "        requirejs.config({\n",
       "            paths: {\n",
       "                'plotly': ['https://cdn.plot.ly/plotly-2.34.0.min']\n",
       "            }\n",
       "        });\n",
       "        require(['plotly'], function(Plotly) {\n",
       "            window._Plotly = Plotly;\n",
       "        });\n",
       "        }\n",
       "        </script>\n",
       "        "
      ]
     },
     "metadata": {},
     "output_type": "display_data"
    }
   ],
   "source": [
    "# Import libraries necessary for this project\n",
    "import pandas as pd\n",
    "import numpy as np\n",
    "import matplotlib.pyplot as plt\n",
    "\n",
    "# Import libraries to data exploration\n",
    "from sklearn.feature_selection import VarianceThreshold\n",
    "import seaborn as sns\n",
    "\n",
    "import numpy as np \n",
    "import pandas as pd \n",
    "import matplotlib.pyplot as plt\n",
    "import seaborn as sns\n",
    "import plotly as py \n",
    "import plotly.graph_objs as go\n",
    "import scipy.cluster.hierarchy as shc\n",
    "from plotly.offline import init_notebook_mode, plot, iplot\n",
    "init_notebook_mode(connected=True)\n",
    "from sklearn.cluster import KMeans, AgglomerativeClustering, AffinityPropagation\n",
    "from sklearn.preprocessing import StandardScaler\n",
    "import os\n",
    "import pickle as pk\n",
    "from sklearn.model_selection import train_test_split\n",
    "from sklearn.tree import DecisionTreeClassifier\n",
    "import sys\n",
    "sys.path.insert(0, '/Users/maceli/useful_functions')\n",
    "\n",
    "from functions import *"
   ]
  },
  {
   "cell_type": "code",
   "execution_count": 2,
   "metadata": {},
   "outputs": [],
   "source": [
    "# Load the customers dataset\n",
    "df=pd.read_sas(\"a2z_insurance.sas7bdat\")"
   ]
  },
  {
   "cell_type": "code",
   "execution_count": 3,
   "metadata": {},
   "outputs": [
    {
     "data": {
      "text/html": [
       "<div>\n",
       "<style scoped>\n",
       "    .dataframe tbody tr th:only-of-type {\n",
       "        vertical-align: middle;\n",
       "    }\n",
       "\n",
       "    .dataframe tbody tr th {\n",
       "        vertical-align: top;\n",
       "    }\n",
       "\n",
       "    .dataframe thead th {\n",
       "        text-align: right;\n",
       "    }\n",
       "</style>\n",
       "<table border=\"1\" class=\"dataframe\">\n",
       "  <thead>\n",
       "    <tr style=\"text-align: right;\">\n",
       "      <th></th>\n",
       "      <th>CustID</th>\n",
       "      <th>FirstPolYear</th>\n",
       "      <th>BirthYear</th>\n",
       "      <th>EducDeg</th>\n",
       "      <th>MonthSal</th>\n",
       "      <th>GeoLivArea</th>\n",
       "      <th>Children</th>\n",
       "      <th>CustMonVal</th>\n",
       "      <th>ClaimsRate</th>\n",
       "      <th>PremMotor</th>\n",
       "      <th>PremHousehold</th>\n",
       "      <th>PremHealth</th>\n",
       "      <th>PremLife</th>\n",
       "      <th>PremWork</th>\n",
       "    </tr>\n",
       "  </thead>\n",
       "  <tbody>\n",
       "    <tr>\n",
       "      <th>0</th>\n",
       "      <td>1.0</td>\n",
       "      <td>1985.0</td>\n",
       "      <td>1982.0</td>\n",
       "      <td>b'2 - High School'</td>\n",
       "      <td>2177.0</td>\n",
       "      <td>1.0</td>\n",
       "      <td>1.0</td>\n",
       "      <td>380.97</td>\n",
       "      <td>0.39</td>\n",
       "      <td>375.85</td>\n",
       "      <td>79.45</td>\n",
       "      <td>146.36</td>\n",
       "      <td>47.01</td>\n",
       "      <td>16.89</td>\n",
       "    </tr>\n",
       "    <tr>\n",
       "      <th>1</th>\n",
       "      <td>2.0</td>\n",
       "      <td>1981.0</td>\n",
       "      <td>1995.0</td>\n",
       "      <td>b'2 - High School'</td>\n",
       "      <td>677.0</td>\n",
       "      <td>4.0</td>\n",
       "      <td>1.0</td>\n",
       "      <td>-131.13</td>\n",
       "      <td>1.12</td>\n",
       "      <td>77.46</td>\n",
       "      <td>416.20</td>\n",
       "      <td>116.69</td>\n",
       "      <td>194.48</td>\n",
       "      <td>106.13</td>\n",
       "    </tr>\n",
       "    <tr>\n",
       "      <th>2</th>\n",
       "      <td>3.0</td>\n",
       "      <td>1991.0</td>\n",
       "      <td>1970.0</td>\n",
       "      <td>b'1 - Basic'</td>\n",
       "      <td>2277.0</td>\n",
       "      <td>3.0</td>\n",
       "      <td>0.0</td>\n",
       "      <td>504.67</td>\n",
       "      <td>0.28</td>\n",
       "      <td>206.15</td>\n",
       "      <td>224.50</td>\n",
       "      <td>124.58</td>\n",
       "      <td>86.35</td>\n",
       "      <td>99.02</td>\n",
       "    </tr>\n",
       "    <tr>\n",
       "      <th>3</th>\n",
       "      <td>4.0</td>\n",
       "      <td>1990.0</td>\n",
       "      <td>1981.0</td>\n",
       "      <td>b'3 - BSc/MSc'</td>\n",
       "      <td>1099.0</td>\n",
       "      <td>4.0</td>\n",
       "      <td>1.0</td>\n",
       "      <td>-16.99</td>\n",
       "      <td>0.99</td>\n",
       "      <td>182.48</td>\n",
       "      <td>43.35</td>\n",
       "      <td>311.17</td>\n",
       "      <td>35.34</td>\n",
       "      <td>28.34</td>\n",
       "    </tr>\n",
       "    <tr>\n",
       "      <th>4</th>\n",
       "      <td>5.0</td>\n",
       "      <td>1986.0</td>\n",
       "      <td>1973.0</td>\n",
       "      <td>b'3 - BSc/MSc'</td>\n",
       "      <td>1763.0</td>\n",
       "      <td>4.0</td>\n",
       "      <td>1.0</td>\n",
       "      <td>35.23</td>\n",
       "      <td>0.90</td>\n",
       "      <td>338.62</td>\n",
       "      <td>47.80</td>\n",
       "      <td>182.59</td>\n",
       "      <td>18.78</td>\n",
       "      <td>41.45</td>\n",
       "    </tr>\n",
       "  </tbody>\n",
       "</table>\n",
       "</div>"
      ],
      "text/plain": [
       "   CustID  FirstPolYear  BirthYear             EducDeg  MonthSal  GeoLivArea  \\\n",
       "0     1.0        1985.0     1982.0  b'2 - High School'    2177.0         1.0   \n",
       "1     2.0        1981.0     1995.0  b'2 - High School'     677.0         4.0   \n",
       "2     3.0        1991.0     1970.0        b'1 - Basic'    2277.0         3.0   \n",
       "3     4.0        1990.0     1981.0      b'3 - BSc/MSc'    1099.0         4.0   \n",
       "4     5.0        1986.0     1973.0      b'3 - BSc/MSc'    1763.0         4.0   \n",
       "\n",
       "   Children  CustMonVal  ClaimsRate  PremMotor  PremHousehold  PremHealth  \\\n",
       "0       1.0      380.97        0.39     375.85          79.45      146.36   \n",
       "1       1.0     -131.13        1.12      77.46         416.20      116.69   \n",
       "2       0.0      504.67        0.28     206.15         224.50      124.58   \n",
       "3       1.0      -16.99        0.99     182.48          43.35      311.17   \n",
       "4       1.0       35.23        0.90     338.62          47.80      182.59   \n",
       "\n",
       "   PremLife  PremWork  \n",
       "0     47.01     16.89  \n",
       "1    194.48    106.13  \n",
       "2     86.35     99.02  \n",
       "3     35.34     28.34  \n",
       "4     18.78     41.45  "
      ]
     },
     "metadata": {},
     "output_type": "display_data"
    }
   ],
   "source": [
    "# Display the 10th rows of the dataset\n",
    "display(df.head())"
   ]
  },
  {
   "cell_type": "code",
   "execution_count": 4,
   "metadata": {},
   "outputs": [
    {
     "data": {
      "text/plain": [
       "CustID           float64\n",
       "FirstPolYear     float64\n",
       "BirthYear        float64\n",
       "EducDeg           object\n",
       "MonthSal         float64\n",
       "GeoLivArea       float64\n",
       "Children         float64\n",
       "CustMonVal       float64\n",
       "ClaimsRate       float64\n",
       "PremMotor        float64\n",
       "PremHousehold    float64\n",
       "PremHealth       float64\n",
       "PremLife         float64\n",
       "PremWork         float64\n",
       "dtype: object"
      ]
     },
     "execution_count": 4,
     "metadata": {},
     "output_type": "execute_result"
    }
   ],
   "source": [
    "# Display the type of features\n",
    "df.dtypes"
   ]
  },
  {
   "cell_type": "code",
   "execution_count": 5,
   "metadata": {},
   "outputs": [
    {
     "data": {
      "text/html": [
       "<div>\n",
       "<style scoped>\n",
       "    .dataframe tbody tr th:only-of-type {\n",
       "        vertical-align: middle;\n",
       "    }\n",
       "\n",
       "    .dataframe tbody tr th {\n",
       "        vertical-align: top;\n",
       "    }\n",
       "\n",
       "    .dataframe thead th {\n",
       "        text-align: right;\n",
       "    }\n",
       "</style>\n",
       "<table border=\"1\" class=\"dataframe\">\n",
       "  <thead>\n",
       "    <tr style=\"text-align: right;\">\n",
       "      <th></th>\n",
       "      <th>count</th>\n",
       "      <th>unique</th>\n",
       "      <th>top</th>\n",
       "      <th>freq</th>\n",
       "      <th>mean</th>\n",
       "      <th>std</th>\n",
       "      <th>min</th>\n",
       "      <th>25%</th>\n",
       "      <th>50%</th>\n",
       "      <th>75%</th>\n",
       "      <th>max</th>\n",
       "    </tr>\n",
       "  </thead>\n",
       "  <tbody>\n",
       "    <tr>\n",
       "      <th>CustID</th>\n",
       "      <td>10296.0</td>\n",
       "      <td>NaN</td>\n",
       "      <td>NaN</td>\n",
       "      <td>NaN</td>\n",
       "      <td>5148.5</td>\n",
       "      <td>2972.34352</td>\n",
       "      <td>1.0</td>\n",
       "      <td>2574.75</td>\n",
       "      <td>5148.5</td>\n",
       "      <td>7722.25</td>\n",
       "      <td>10296.0</td>\n",
       "    </tr>\n",
       "    <tr>\n",
       "      <th>FirstPolYear</th>\n",
       "      <td>10266.0</td>\n",
       "      <td>NaN</td>\n",
       "      <td>NaN</td>\n",
       "      <td>NaN</td>\n",
       "      <td>1991.062634</td>\n",
       "      <td>511.267913</td>\n",
       "      <td>1974.0</td>\n",
       "      <td>1980.0</td>\n",
       "      <td>1986.0</td>\n",
       "      <td>1992.0</td>\n",
       "      <td>53784.0</td>\n",
       "    </tr>\n",
       "    <tr>\n",
       "      <th>BirthYear</th>\n",
       "      <td>10279.0</td>\n",
       "      <td>NaN</td>\n",
       "      <td>NaN</td>\n",
       "      <td>NaN</td>\n",
       "      <td>1968.007783</td>\n",
       "      <td>19.709476</td>\n",
       "      <td>1028.0</td>\n",
       "      <td>1953.0</td>\n",
       "      <td>1968.0</td>\n",
       "      <td>1983.0</td>\n",
       "      <td>2001.0</td>\n",
       "    </tr>\n",
       "    <tr>\n",
       "      <th>EducDeg</th>\n",
       "      <td>10279</td>\n",
       "      <td>4</td>\n",
       "      <td>b'3 - BSc/MSc'</td>\n",
       "      <td>4799</td>\n",
       "      <td>NaN</td>\n",
       "      <td>NaN</td>\n",
       "      <td>NaN</td>\n",
       "      <td>NaN</td>\n",
       "      <td>NaN</td>\n",
       "      <td>NaN</td>\n",
       "      <td>NaN</td>\n",
       "    </tr>\n",
       "    <tr>\n",
       "      <th>MonthSal</th>\n",
       "      <td>10260.0</td>\n",
       "      <td>NaN</td>\n",
       "      <td>NaN</td>\n",
       "      <td>NaN</td>\n",
       "      <td>2506.667057</td>\n",
       "      <td>1157.449634</td>\n",
       "      <td>333.0</td>\n",
       "      <td>1706.0</td>\n",
       "      <td>2501.5</td>\n",
       "      <td>3290.25</td>\n",
       "      <td>55215.0</td>\n",
       "    </tr>\n",
       "    <tr>\n",
       "      <th>GeoLivArea</th>\n",
       "      <td>10295.0</td>\n",
       "      <td>NaN</td>\n",
       "      <td>NaN</td>\n",
       "      <td>NaN</td>\n",
       "      <td>2.709859</td>\n",
       "      <td>1.266291</td>\n",
       "      <td>1.0</td>\n",
       "      <td>1.0</td>\n",
       "      <td>3.0</td>\n",
       "      <td>4.0</td>\n",
       "      <td>4.0</td>\n",
       "    </tr>\n",
       "    <tr>\n",
       "      <th>Children</th>\n",
       "      <td>10275.0</td>\n",
       "      <td>NaN</td>\n",
       "      <td>NaN</td>\n",
       "      <td>NaN</td>\n",
       "      <td>0.706764</td>\n",
       "      <td>0.455268</td>\n",
       "      <td>0.0</td>\n",
       "      <td>0.0</td>\n",
       "      <td>1.0</td>\n",
       "      <td>1.0</td>\n",
       "      <td>1.0</td>\n",
       "    </tr>\n",
       "    <tr>\n",
       "      <th>CustMonVal</th>\n",
       "      <td>10296.0</td>\n",
       "      <td>NaN</td>\n",
       "      <td>NaN</td>\n",
       "      <td>NaN</td>\n",
       "      <td>177.892605</td>\n",
       "      <td>1945.811505</td>\n",
       "      <td>-165680.42</td>\n",
       "      <td>-9.44</td>\n",
       "      <td>186.87</td>\n",
       "      <td>399.7775</td>\n",
       "      <td>11875.89</td>\n",
       "    </tr>\n",
       "    <tr>\n",
       "      <th>ClaimsRate</th>\n",
       "      <td>10296.0</td>\n",
       "      <td>NaN</td>\n",
       "      <td>NaN</td>\n",
       "      <td>NaN</td>\n",
       "      <td>0.742772</td>\n",
       "      <td>2.916964</td>\n",
       "      <td>0.0</td>\n",
       "      <td>0.39</td>\n",
       "      <td>0.72</td>\n",
       "      <td>0.98</td>\n",
       "      <td>256.2</td>\n",
       "    </tr>\n",
       "    <tr>\n",
       "      <th>PremMotor</th>\n",
       "      <td>10262.0</td>\n",
       "      <td>NaN</td>\n",
       "      <td>NaN</td>\n",
       "      <td>NaN</td>\n",
       "      <td>300.470252</td>\n",
       "      <td>211.914997</td>\n",
       "      <td>-4.11</td>\n",
       "      <td>190.59</td>\n",
       "      <td>298.61</td>\n",
       "      <td>408.3</td>\n",
       "      <td>11604.42</td>\n",
       "    </tr>\n",
       "    <tr>\n",
       "      <th>PremHousehold</th>\n",
       "      <td>10296.0</td>\n",
       "      <td>NaN</td>\n",
       "      <td>NaN</td>\n",
       "      <td>NaN</td>\n",
       "      <td>210.431192</td>\n",
       "      <td>352.595984</td>\n",
       "      <td>-75.0</td>\n",
       "      <td>49.45</td>\n",
       "      <td>132.8</td>\n",
       "      <td>290.05</td>\n",
       "      <td>25048.8</td>\n",
       "    </tr>\n",
       "    <tr>\n",
       "      <th>PremHealth</th>\n",
       "      <td>10253.0</td>\n",
       "      <td>NaN</td>\n",
       "      <td>NaN</td>\n",
       "      <td>NaN</td>\n",
       "      <td>171.580833</td>\n",
       "      <td>296.405976</td>\n",
       "      <td>-2.11</td>\n",
       "      <td>111.8</td>\n",
       "      <td>162.81</td>\n",
       "      <td>219.82</td>\n",
       "      <td>28272.0</td>\n",
       "    </tr>\n",
       "    <tr>\n",
       "      <th>PremLife</th>\n",
       "      <td>10192.0</td>\n",
       "      <td>NaN</td>\n",
       "      <td>NaN</td>\n",
       "      <td>NaN</td>\n",
       "      <td>41.855782</td>\n",
       "      <td>47.480632</td>\n",
       "      <td>-7.0</td>\n",
       "      <td>9.89</td>\n",
       "      <td>25.56</td>\n",
       "      <td>57.79</td>\n",
       "      <td>398.3</td>\n",
       "    </tr>\n",
       "    <tr>\n",
       "      <th>PremWork</th>\n",
       "      <td>10210.0</td>\n",
       "      <td>NaN</td>\n",
       "      <td>NaN</td>\n",
       "      <td>NaN</td>\n",
       "      <td>41.277514</td>\n",
       "      <td>51.513572</td>\n",
       "      <td>-12.0</td>\n",
       "      <td>10.67</td>\n",
       "      <td>25.67</td>\n",
       "      <td>56.79</td>\n",
       "      <td>1988.7</td>\n",
       "    </tr>\n",
       "  </tbody>\n",
       "</table>\n",
       "</div>"
      ],
      "text/plain": [
       "                 count unique             top  freq         mean          std  \\\n",
       "CustID         10296.0    NaN             NaN   NaN       5148.5   2972.34352   \n",
       "FirstPolYear   10266.0    NaN             NaN   NaN  1991.062634   511.267913   \n",
       "BirthYear      10279.0    NaN             NaN   NaN  1968.007783    19.709476   \n",
       "EducDeg          10279      4  b'3 - BSc/MSc'  4799          NaN          NaN   \n",
       "MonthSal       10260.0    NaN             NaN   NaN  2506.667057  1157.449634   \n",
       "GeoLivArea     10295.0    NaN             NaN   NaN     2.709859     1.266291   \n",
       "Children       10275.0    NaN             NaN   NaN     0.706764     0.455268   \n",
       "CustMonVal     10296.0    NaN             NaN   NaN   177.892605  1945.811505   \n",
       "ClaimsRate     10296.0    NaN             NaN   NaN     0.742772     2.916964   \n",
       "PremMotor      10262.0    NaN             NaN   NaN   300.470252   211.914997   \n",
       "PremHousehold  10296.0    NaN             NaN   NaN   210.431192   352.595984   \n",
       "PremHealth     10253.0    NaN             NaN   NaN   171.580833   296.405976   \n",
       "PremLife       10192.0    NaN             NaN   NaN    41.855782    47.480632   \n",
       "PremWork       10210.0    NaN             NaN   NaN    41.277514    51.513572   \n",
       "\n",
       "                     min      25%     50%       75%       max  \n",
       "CustID               1.0  2574.75  5148.5   7722.25   10296.0  \n",
       "FirstPolYear      1974.0   1980.0  1986.0    1992.0   53784.0  \n",
       "BirthYear         1028.0   1953.0  1968.0    1983.0    2001.0  \n",
       "EducDeg              NaN      NaN     NaN       NaN       NaN  \n",
       "MonthSal           333.0   1706.0  2501.5   3290.25   55215.0  \n",
       "GeoLivArea           1.0      1.0     3.0       4.0       4.0  \n",
       "Children             0.0      0.0     1.0       1.0       1.0  \n",
       "CustMonVal    -165680.42    -9.44  186.87  399.7775  11875.89  \n",
       "ClaimsRate           0.0     0.39    0.72      0.98     256.2  \n",
       "PremMotor          -4.11   190.59  298.61     408.3  11604.42  \n",
       "PremHousehold      -75.0    49.45   132.8    290.05   25048.8  \n",
       "PremHealth         -2.11    111.8  162.81    219.82   28272.0  \n",
       "PremLife            -7.0     9.89   25.56     57.79     398.3  \n",
       "PremWork           -12.0    10.67   25.67     56.79    1988.7  "
      ]
     },
     "execution_count": 5,
     "metadata": {},
     "output_type": "execute_result"
    }
   ],
   "source": [
    "#see missing in the variables\n",
    "summary_statistics(df)"
   ]
  },
  {
   "cell_type": "code",
   "execution_count": 6,
   "metadata": {},
   "outputs": [
    {
     "data": {
      "text/html": [
       "<div>\n",
       "<style scoped>\n",
       "    .dataframe tbody tr th:only-of-type {\n",
       "        vertical-align: middle;\n",
       "    }\n",
       "\n",
       "    .dataframe tbody tr th {\n",
       "        vertical-align: top;\n",
       "    }\n",
       "\n",
       "    .dataframe thead th {\n",
       "        text-align: right;\n",
       "    }\n",
       "</style>\n",
       "<table border=\"1\" class=\"dataframe\">\n",
       "  <thead>\n",
       "    <tr style=\"text-align: right;\">\n",
       "      <th></th>\n",
       "      <th>Total</th>\n",
       "      <th>Percent</th>\n",
       "    </tr>\n",
       "  </thead>\n",
       "  <tbody>\n",
       "    <tr>\n",
       "      <th>PremLife</th>\n",
       "      <td>104</td>\n",
       "      <td>1.010101</td>\n",
       "    </tr>\n",
       "    <tr>\n",
       "      <th>PremWork</th>\n",
       "      <td>86</td>\n",
       "      <td>0.835276</td>\n",
       "    </tr>\n",
       "    <tr>\n",
       "      <th>PremHealth</th>\n",
       "      <td>43</td>\n",
       "      <td>0.417638</td>\n",
       "    </tr>\n",
       "    <tr>\n",
       "      <th>MonthSal</th>\n",
       "      <td>36</td>\n",
       "      <td>0.349650</td>\n",
       "    </tr>\n",
       "    <tr>\n",
       "      <th>PremMotor</th>\n",
       "      <td>34</td>\n",
       "      <td>0.330225</td>\n",
       "    </tr>\n",
       "    <tr>\n",
       "      <th>FirstPolYear</th>\n",
       "      <td>30</td>\n",
       "      <td>0.291375</td>\n",
       "    </tr>\n",
       "    <tr>\n",
       "      <th>Children</th>\n",
       "      <td>21</td>\n",
       "      <td>0.203963</td>\n",
       "    </tr>\n",
       "    <tr>\n",
       "      <th>BirthYear</th>\n",
       "      <td>17</td>\n",
       "      <td>0.165113</td>\n",
       "    </tr>\n",
       "    <tr>\n",
       "      <th>EducDeg</th>\n",
       "      <td>17</td>\n",
       "      <td>0.165113</td>\n",
       "    </tr>\n",
       "    <tr>\n",
       "      <th>GeoLivArea</th>\n",
       "      <td>1</td>\n",
       "      <td>0.009713</td>\n",
       "    </tr>\n",
       "    <tr>\n",
       "      <th>CustID</th>\n",
       "      <td>0</td>\n",
       "      <td>0.000000</td>\n",
       "    </tr>\n",
       "    <tr>\n",
       "      <th>CustMonVal</th>\n",
       "      <td>0</td>\n",
       "      <td>0.000000</td>\n",
       "    </tr>\n",
       "    <tr>\n",
       "      <th>ClaimsRate</th>\n",
       "      <td>0</td>\n",
       "      <td>0.000000</td>\n",
       "    </tr>\n",
       "    <tr>\n",
       "      <th>PremHousehold</th>\n",
       "      <td>0</td>\n",
       "      <td>0.000000</td>\n",
       "    </tr>\n",
       "  </tbody>\n",
       "</table>\n",
       "</div>"
      ],
      "text/plain": [
       "               Total   Percent\n",
       "PremLife         104  1.010101\n",
       "PremWork          86  0.835276\n",
       "PremHealth        43  0.417638\n",
       "MonthSal          36  0.349650\n",
       "PremMotor         34  0.330225\n",
       "FirstPolYear      30  0.291375\n",
       "Children          21  0.203963\n",
       "BirthYear         17  0.165113\n",
       "EducDeg           17  0.165113\n",
       "GeoLivArea         1  0.009713\n",
       "CustID             0  0.000000\n",
       "CustMonVal         0  0.000000\n",
       "ClaimsRate         0  0.000000\n",
       "PremHousehold      0  0.000000"
      ]
     },
     "execution_count": 6,
     "metadata": {},
     "output_type": "execute_result"
    }
   ],
   "source": [
    "missing_data(df)"
   ]
  },
  {
   "cell_type": "code",
   "execution_count": 13,
   "metadata": {
    "scrolled": true
   },
   "outputs": [
    {
     "data": {
      "text/plain": [
       "(10296, 14)"
      ]
     },
     "execution_count": 13,
     "metadata": {},
     "output_type": "execute_result"
    }
   ],
   "source": [
    "#Display the shape of dataset #features and #obs\n",
    "df.shape"
   ]
  },
  {
   "cell_type": "code",
   "execution_count": 15,
   "metadata": {},
   "outputs": [
    {
     "data": {
      "text/plain": [
       "0"
      ]
     },
     "execution_count": 15,
     "metadata": {},
     "output_type": "execute_result"
    }
   ],
   "source": [
    "# Check duplicated Customer Identify\n",
    "df['CustID'].duplicated().sum()"
   ]
  },
  {
   "cell_type": "code",
   "execution_count": 17,
   "metadata": {},
   "outputs": [
    {
     "data": {
      "text/plain": [
       "(8092, 14)"
      ]
     },
     "execution_count": 17,
     "metadata": {},
     "output_type": "execute_result"
    }
   ],
   "source": [
    "#Checking the data integrity\n",
    "df=df[df['BirthYear']<df['FirstPolYear']]\n",
    "df.shape"
   ]
  },
  {
   "cell_type": "code",
   "execution_count": null,
   "metadata": {},
   "outputs": [],
   "source": [
    "df['Has Children (Y=1)']=df['Has Children (Y=1)'].replace(1.,'1')\n",
    "df['Has Children (Y=1)']=df['Has Children (Y=1)'].replace(0.,'0')\n",
    "df['Has Children (Y=1)']=df['Has Children (Y=1)'].replace(np.nan,'Sem Informacao')\n",
    "df['Has Children (Y=1)'].unique()\n",
    "df['Geographic Living Area']=df['Geographic Living Area'].replace(np.nan,'Not Information')\n",
    "df['Geographic Living Area']=df['Geographic Living Area'].replace(1.0,'1')\n",
    "df['Geographic Living Area']=df['Geographic Living Area'].replace(2.0,'2')\n",
    "df['Geographic Living Area']=df['Geographic Living Area'].replace(3.0,'3')\n",
    "df['Geographic Living Area']=df['Geographic Living Area'].replace(4.0,'4')\n",
    "df['Educational Degree']=df['Educational Degree'].replace(np.nan,'Not Information')\n",
    "df['Educational Degree'].unique()\n",
    "df['Geographic Living Area'].unique()"
   ]
  },
  {
   "cell_type": "code",
   "execution_count": 34,
   "metadata": {},
   "outputs": [],
   "source": [
    "c = ['GeoLivArea','Children','Children']\n",
    "df[c] = df[c].astype(str)"
   ]
  },
  {
   "cell_type": "code",
   "execution_count": 32,
   "metadata": {},
   "outputs": [
    {
     "data": {
      "text/plain": [
       "CustID           float64\n",
       "FirstPolYear     float64\n",
       "BirthYear        float64\n",
       "EducDeg           object\n",
       "MonthSal         float64\n",
       "GeoLivArea        object\n",
       "Children         float64\n",
       "CustMonVal       float64\n",
       "ClaimsRate       float64\n",
       "PremMotor        float64\n",
       "PremHousehold    float64\n",
       "PremHealth       float64\n",
       "PremLife         float64\n",
       "PremWork         float64\n",
       "dtype: object"
      ]
     },
     "execution_count": 32,
     "metadata": {},
     "output_type": "execute_result"
    }
   ],
   "source": [
    "df.dtypes"
   ]
  },
  {
   "cell_type": "code",
   "execution_count": 26,
   "metadata": {},
   "outputs": [],
   "source": [
    "c = ['PremHealth','PremHousehold','PremLife','PremMotor','PremWork','ClaimsRate','CustMonVal', 'MonthSal']\n",
    "df[c] = df[c].fillna(df[c].mean())"
   ]
  },
  {
   "cell_type": "code",
   "execution_count": null,
   "metadata": {},
   "outputs": [],
   "source": [
    "#The current year of the database is 2016\n",
    "df['current year']=2016\n",
    "df['Age']=df['current year']-df['Brithday Year'] \n",
    "df['Age Policy']=df['First Policy´s Year']-df['Brithday Year'] \n",
    "df['Policy year']=df['current year']-df['First Policy´s Year'] \n",
    "df.head()"
   ]
  },
  {
   "cell_type": "code",
   "execution_count": null,
   "metadata": {},
   "outputs": [],
   "source": [
    "df.dtypes\n",
    "df_without=df.copy()\n",
    "df_without.head()"
   ]
  },
  {
   "cell_type": "code",
   "execution_count": null,
   "metadata": {},
   "outputs": [],
   "source": [
    "#Outliers\n",
    "def drop_outliers(df, field_name):\n",
    "    distance = 1.5 * (np.nanpercentile(df[field_name], 75) - np.nanpercentile(df[field_name], 25))\n",
    "    df.drop(df[df[field_name] > distance + np.nanpercentile(df[field_name], 75)].index, inplace=True)\n",
    "    df.drop(df[df[field_name] < np.nanpercentile(df[field_name], 25) - distance].index, inplace=True)\n",
    "\n",
    "if __name__ == \"__main__\":\n",
    "  # assuming df exists and contains numeric variables\n",
    "\n",
    "  print(df.shape)\n",
    "\n",
    "for column in df.select_dtypes(include=[np.number]).columns:\n",
    "      drop_outliers(df, column)\n",
    "\n",
    "print(df.shape)"
   ]
  },
  {
   "cell_type": "code",
   "execution_count": null,
   "metadata": {},
   "outputs": [],
   "source": [
    "f,axes = plt.subplots(2, 2, figsize=(8, 8))\n",
    "sns.despine(left=True)\n",
    "sns.boxplot(y='Premiums in LOB: Work Compensations', x='Geographic Living Area',\n",
    "                 data=df_without, ax=axes[0, 0])\n",
    "sns.boxplot(y='Premiums in LOB: Work Compensations', x='Geographic Living Area',\n",
    "                 data=df, ax=axes[0, 1])\n",
    "sns.boxplot(y='Premiums in LOB:  Life', x='Geographic Living Area',\n",
    "                 data=df_without, ax=axes[1, 0])\n",
    "sns.boxplot(y='Premiums in LOB:  Life', x='Geographic Living Area',\n",
    "                 data=df, ax=axes[1, 1])\n",
    "plt.savefig('medals.svg')\n",
    "#sns.boxplot(y='Premiums in LOB: Health', x='Geographic Living Area',\n",
    "                 #data=df, ax=axes[0, 2])\n",
    "#sns.boxplot(y='Premiums in LOB: Household', x='Geographic Living Area',\n",
    "                 #data=df, ax=axes[1, 0])\n",
    "#sns.boxplot(y='Claims Rate', x='Geographic Living Area',\n",
    "                 #data=df, ax=axes[1, 1])\n",
    "#sns.boxplot(y='Customer Monetary Value', x='Geographic Living Area',\n",
    "                 #data=df, ax=axes[1, 2])\n",
    "plt.tight_layout()"
   ]
  },
  {
   "cell_type": "code",
   "execution_count": null,
   "metadata": {},
   "outputs": [],
   "source": [
    "\n",
    "#Outliers\n",
    "def drop_outliers(df, field_name):\n",
    "    distance = 1.5 * (np.nanpercentile(df[field_name], 75) - np.nanpercentile(df[field_name], 25))\n",
    "    df.drop(df[df[field_name] > distance + np.nanpercentile(df[field_name], 75)].index, inplace=True)\n",
    "    df.drop(df[df[field_name] < np.nanpercentile(df[field_name], 25) - distance].index, inplace=True)\n",
    "\n",
    "if __name__ == \"__main__\":\n",
    "  # assuming df exists and contains numeric variables\n",
    "\n",
    "  print(df.shape)\n",
    "\n",
    "for column in df.select_dtypes(include=[np.number]).columns:\n",
    "      drop_outliers(df, column)\n",
    "\n",
    "print(df.shape)"
   ]
  },
  {
   "cell_type": "code",
   "execution_count": null,
   "metadata": {},
   "outputs": [],
   "source": [
    "f,axes = plt.subplots(2, 3, figsize=(8, 8))\n",
    "sns.despine(left=True)\n",
    "sns.boxplot(y='Premiums in LOB: Work Compensations', x='Geographic Living Area',\n",
    "                 data=df, ax=axes[0, 0])\n",
    "sns.boxplot(y='Premiums in LOB:  Life', x='Geographic Living Area',\n",
    "                 data=df, ax=axes[0, 1])\n",
    "sns.boxplot(y='Premiums in LOB: Health', x='Geographic Living Area',\n",
    "                 data=df, ax=axes[0, 2])\n",
    "sns.boxplot(y='Premiums in LOB: Household', x='Geographic Living Area',\n",
    "                 data=df, ax=axes[1, 0])\n",
    "sns.boxplot(y='Claims Rate', x='Geographic Living Area',\n",
    "                 data=df, ax=axes[1, 1])\n",
    "sns.boxplot(y='Customer Monetary Value', x='Geographic Living Area',\n",
    "                 data=df, ax=axes[1, 2])\n",
    "plt.tight_layout()"
   ]
  },
  {
   "cell_type": "code",
   "execution_count": null,
   "metadata": {},
   "outputs": [],
   "source": [
    "f,axes = plt.subplots(2, 3, figsize=(8, 8))\n",
    "sns.despine(left=True)\n",
    "sns.boxplot(y='Premiums in LOB: Work Compensations', x='Educational Degree',\n",
    "                 data=df, ax=axes[0, 0])\n",
    "sns.boxplot(y='Premiums in LOB:  Life', x='Educational Degree',\n",
    "                 data=df, ax=axes[0, 1])\n",
    "sns.boxplot(y='Premiums in LOB: Health', x='Educational Degree',\n",
    "                 data=df, ax=axes[0, 2])\n",
    "sns.boxplot(y='Premiums in LOB: Household', x='Educational Degree',\n",
    "                 data=df, ax=axes[1, 0])\n",
    "sns.boxplot(y='Claims Rate', x='Educational Degree',\n",
    "                 data=df, ax=axes[1, 1])\n",
    "sns.boxplot(y='Customer Monetary Value', x='Educational Degree',\n",
    "                 data=df, ax=axes[1, 2])\n",
    "plt.tight_layout()"
   ]
  },
  {
   "cell_type": "code",
   "execution_count": null,
   "metadata": {},
   "outputs": [],
   "source": [
    "keep=['Premiums in LOB: Work Compensations','Premiums in LOB:  Life','Premiums in LOB: Health',\n",
    "      'Premiums in LOB: Household','Premiums in LOB: Motor','Claims Rate','Customer Monetary Value',\n",
    "      'Gross Monthly Salary','Age','Age Policy','Policy year'\n",
    "     ]\n",
    "X_cor=df[keep]"
   ]
  },
  {
   "cell_type": "code",
   "execution_count": null,
   "metadata": {},
   "outputs": [],
   "source": [
    "constant_filter = VarianceThreshold(threshold=0)\n",
    "constant_filter.fit(X_cor)\n",
    "len(X_cor.columns[constant_filter.get_support()])\n",
    "constant_columns = [column for column in X_cor.columns\n",
    "                    if column not in X_cor.columns[constant_filter.get_support()]]\n",
    "\n",
    "print(len(constant_columns))\n",
    "for column in constant_columns:\n",
    "    print(column)\n",
    "#Neste caso todas as variaveis permanecem"
   ]
  },
  {
   "cell_type": "code",
   "execution_count": null,
   "metadata": {},
   "outputs": [],
   "source": [
    "correlated_features = set()\n",
    "correlation_matrix =X_cor.corr()\n",
    "for i in range(len(correlation_matrix .columns)):\n",
    "    for j in range(i):\n",
    "        if abs(correlation_matrix.iloc[i, j]) > 0.7:\n",
    "            colname = correlation_matrix.columns[i]\n",
    "            correlated_features.add(colname)\n",
    "len(correlated_features)\n",
    "print(correlated_features)\n",
    "\n"
   ]
  },
  {
   "cell_type": "code",
   "execution_count": null,
   "metadata": {},
   "outputs": [],
   "source": [
    "mask = np.zeros_like(X_cor.corr(), dtype=np.bool)\n",
    "mask[np.triu_indices_from(mask)] = True\n",
    "plt.subplots(figsize = (15,15))\n",
    "sns.heatmap(X_cor.corr(), \n",
    "            annot=True,\n",
    "            mask = mask,\n",
    "            cmap = plt.cm.Reds,\n",
    "            linewidths=0.1, \n",
    "            linecolor='white',\n",
    "            vmax = .9,\n",
    "            square=True)\n",
    "plt.title(\"Correlations Among Features\", y = 1.03,fontsize = 5)\n",
    "plt.show()\n",
    "plt.savefig('medals.svg')"
   ]
  },
  {
   "cell_type": "code",
   "execution_count": null,
   "metadata": {},
   "outputs": [],
   "source": [
    "import pickle as pk\n",
    "df_end=df.drop(['Age Policy', 'Premiums in LOB: Motor', 'Age', 'Customer Monetary Value'],axis=1)"
   ]
  },
  {
   "cell_type": "code",
   "execution_count": null,
   "metadata": {},
   "outputs": [],
   "source": [
    "df_end.describe()"
   ]
  },
  {
   "cell_type": "code",
   "execution_count": null,
   "metadata": {},
   "outputs": [],
   "source": [
    "df_end.to_pickle('df_end.pkl')"
   ]
  },
  {
   "cell_type": "code",
   "execution_count": null,
   "metadata": {},
   "outputs": [],
   "source": [
    "df_dsenv=pd.read_pickle('df_end.pkl')"
   ]
  },
  {
   "cell_type": "code",
   "execution_count": null,
   "metadata": {},
   "outputs": [],
   "source": [
    "df_dsenv.groupby(['Geographic Living Area'])['Gross Monthly Salary','Premiums in LOB: Household',\n",
    "    'Premiums in LOB: Health','Premiums in LOB: Work Compensations','Claims Rate',\n",
    "                                         'Premiums in LOB:  Life'].mean()"
   ]
  },
  {
   "cell_type": "code",
   "execution_count": null,
   "metadata": {},
   "outputs": [],
   "source": [
    "df_dsenv.groupby(['Educational Degree'])['Gross Monthly Salary','Premiums in LOB: Household',\n",
    "    'Premiums in LOB: Health','Premiums in LOB: Work Compensations','Claims Rate',\n",
    "                                         'Premiums in LOB:  Life'].mean()"
   ]
  },
  {
   "cell_type": "code",
   "execution_count": null,
   "metadata": {},
   "outputs": [],
   "source": [
    "keep=['Premiums in LOB: Work Compensations','Premiums in LOB:  Life','Premiums in LOB: Health',\n",
    "      'Premiums in LOB: Household']\n",
    "X = StandardScaler().fit_transform(df_dsenv[keep])"
   ]
  },
  {
   "cell_type": "code",
   "execution_count": null,
   "metadata": {},
   "outputs": [],
   "source": [
    "# Fit KMeans and calculate SSE for each *k*\n",
    "sse = {}\n",
    "for k in range(1, 11):\n",
    "    kmeans = KMeans(n_clusters=k, random_state=1)\n",
    "    kmeans.fit(X)\n",
    "    sse[k] = kmeans.inertia_\n",
    "# Plot SSE for each *k*\n",
    "plt.title('The Elbow Method')\n",
    "plt.xlabel('k'); plt.ylabel('SSE')\n",
    "sns.pointplot(x=list(sse.keys()), y=list(sse.values()))\n",
    "plt.show()\n",
    "\n",
    "plt.savefig('plot.png')\n",
    "#Ideally, we want to choose the point on the elbow chart where the\n",
    "#SSE stops decreasing at an increasing rate — i.e. the point where the change gradient of between the number \n",
    "#of clusters becomes constant. For our model we will choose k=2-3."
   ]
  },
  {
   "cell_type": "code",
   "execution_count": null,
   "metadata": {},
   "outputs": [],
   "source": [
    "kmeans_2 = KMeans(n_clusters = 2, init = 'k-means++', max_iter = 300, n_init = 10, random_state = 0)\n",
    "y_kmeans_2 = kmeans_2.fit_predict(X)\n",
    "kmeans_3 = KMeans(n_clusters = 3, init = 'k-means++', max_iter = 300, n_init = 10, random_state = 0)\n",
    "y_kmeans_3 = kmeans_3.fit_predict(X)\n",
    "\n",
    "# Visualising the clusters\n",
    "import numpy as np # linear algebra\n",
    "import pandas as pd # data processing, CSV file I/O (e.g. pd.read_csv)\n",
    "import os\n",
    "import matplotlib.pyplot as plt\n",
    "import seaborn as sns\n",
    "#sns.set(context=\"notebook\", palette=\"Spectral\", style = 'darkgrid' ,font_scale = 1.5, color_codes=True)\n",
    "\n",
    "sns.scatterplot(X[y_kmeans_2 == 0, 0], X[y_kmeans_2 == 0, 1], color = 'yellow', label = 'Cluster 1',s=50)\n",
    "sns.scatterplot(X[y_kmeans_2 == 1, 0], X[y_kmeans_2 == 1, 1], color = 'blue', label = 'Cluster 2',s=50)\n",
    "sns.scatterplot(kmeans_2.cluster_centers_[:, 0], kmeans_2.cluster_centers_[:, 1], color = 'red', \n",
    "               label = 'Centroids',s=300,marker=',')\n",
    "\n",
    "#We need do a subplot \n",
    "#sns.scatterplot(X[y_kmeans_3 == 0, 0], X[y_kmeans_3 == 0, 1], color = 'yellow', label = 'Cluster 1',s=50)\n",
    "#sns.scatterplot(X[y_kmeans_3 == 1, 0], X[y_kmeans_3 == 1, 1], color = 'blue', label = 'Cluster 2',s=50)\n",
    "#sns.scatterplot(X[y_kmeans_3 == 3, 0], X[y_kmeans_3 == 3, 1], color = 'green', label = 'Cluster 3',s=50)\n",
    "#sns.scatterplot(kmeans_3.cluster_centers_[:, 0], kmeans_3.cluster_centers_[:, 1], color = 'red', \n",
    "              # label = 'Centroids',s=300,marker=',')"
   ]
  },
  {
   "cell_type": "code",
   "execution_count": null,
   "metadata": {},
   "outputs": [],
   "source": [
    "df_dsenv['Cluster_Id'] = kmeans_2.labels_\n",
    "centers_2 = kmeans_2.cluster_centers_\n",
    "centers_2"
   ]
  },
  {
   "cell_type": "code",
   "execution_count": null,
   "metadata": {},
   "outputs": [],
   "source": [
    "def pd_centers(featuresUsed, centers):\n",
    "    colNames = list(featuresUsed)\n",
    "    colNames.append('prediction')\n",
    "\n",
    "    # Zip with a column called 'prediction' (index)\n",
    "    Z = [np.append(A, index) for index, A in enumerate(centers)]\n",
    "\n",
    "    # Convert to pandas data frame for plotting\n",
    "    P = pd.DataFrame(Z, columns=colNames)\n",
    "    P['prediction'] = P['prediction'].astype(int)\n",
    "    return P\n",
    "\n",
    "P = pd_centers(keep, centers_2)\n",
    "\n",
    "# Function that creates Parallel Plots\n",
    "from itertools import cycle, islice\n",
    "import matplotlib.pyplot as plt\n",
    "from pandas.plotting import parallel_coordinates\n",
    "def parallel_plot(data):\n",
    "    my_colors = list(islice(cycle(['b', 'r', 'g', 'y', 'k']), None, len(data)))\n",
    "    plt.figure(figsize=(15,8)).gca().axes.set_ylim([-3,+3])\n",
    "    parallel_coordinates(data, 'prediction', color = my_colors, marker='o')\n",
    "    \n",
    "parallel_plot(P)"
   ]
  },
  {
   "cell_type": "code",
   "execution_count": null,
   "metadata": {},
   "outputs": [],
   "source": [
    "\n",
    "cluster_avg=df_dsenv.groupby(['Cluster_Id'])['Premiums in LOB: Household',\n",
    "    'Premiums in LOB: Health','Premiums in LOB: Work Compensations',\n",
    "                                         'Premiums in LOB:  Life'].mean()\n",
    "pop_avg=df_dsenv[keep].mean()\n",
    "\n",
    "relative_imp = cluster_avg / pop_avg - 1\n",
    "\n",
    "# Initialize a plot with a figure size of 8 by 2 inches \n",
    "plt.figure(figsize=(4, 2))\n",
    "# Add the plot title\n",
    "plt.title('Relative importance of attributes')\n",
    "# Plot the heatmap\n",
    "sns.heatmap(data=relative_imp, annot=True, fmt='.2f', cmap='RdYlGn')\n",
    "plt.show()"
   ]
  },
  {
   "cell_type": "code",
   "execution_count": null,
   "metadata": {},
   "outputs": [],
   "source": [
    "cluster_avg=pd.DataFrame(df_dsenv.groupby(['Cluster_Id'])['Premiums in LOB: Household',\n",
    "    'Premiums in LOB: Health','Premiums in LOB: Work Compensations',\n",
    "                                         'Premiums in LOB:  Life'].mean())\n",
    "\n",
    "cluster_avg\n",
    "total_avg = pd.DataFrame(df_dsenv[keep].mean(), columns=['Pop Avg']).T\n",
    "total_avg\n",
    "cluster_mean =total_avg.append([cluster_avg])\n",
    "cluster_mean\n",
    "values = cluster_mean.iloc[0].tolist() #\n",
    "values += values [:1]\n",
    "\n",
    "angles = [n / float(AttNo) * 2 * pi for n in range(AttNo)]\n",
    "angles += angles [:1]\n",
    "\n",
    "values2 = cluster_mean.iloc[1].tolist() # \n",
    "values2 += values2 [:1]\n",
    "\n",
    "angles2 = [n / float(AttNo) * 2 * pi for n in range(AttNo)]\n",
    "angles2 += angles2 [:1]\n",
    "\n",
    "values3 = cluster_mean.iloc[2].tolist() # \n",
    "values3 += values3 [:1]\n",
    "\n",
    "angles3 = [n / float(AttNo) * 2 * pi for n in range(AttNo)]\n",
    "angles3 += angles3 [:1]\n",
    "\n",
    "plt.figure(figsize=(5,5))\n",
    "ax = plt.subplot(111, polar=True)\n",
    "\n",
    "plt.xticks(angles[:-1],Attributes)\n",
    "# Group1\n",
    "ax.plot(angles, values, color = 'r')\n",
    "ax.fill(angles, values, 'red', alpha=0.1)\n",
    "\n",
    "# Group2\n",
    "ax.plot(angles2, values2, color = 'b')\n",
    "ax.fill(angles2, values2, 'blue', alpha=0.1)\n",
    "\n",
    "\n",
    "# Total Average\n",
    "ax.plot(angles3, values3, color = 'black')\n",
    "ax.fill(angles3, values3, 'black', alpha=0.1)\n",
    "\n",
    "plt.figtext(0.5,0.63,\"Avg Pop\",color=\"red\")\n",
    "plt.figtext(0.4,0.4,\"Premium = 0\",color=\"blue\")\n",
    "plt.figtext(0.4,0.8,\"Premium = 1\",color=\"green\")\n",
    "plt.show()"
   ]
  },
  {
   "cell_type": "code",
   "execution_count": null,
   "metadata": {},
   "outputs": [],
   "source": [
    "df_dsenv.head()"
   ]
  },
  {
   "cell_type": "code",
   "execution_count": null,
   "metadata": {},
   "outputs": [],
   "source": [
    "df_dsenv.groupby(['Geographic Living Area','Educational Degree','Cluster_Id'])['Cluster_Id'].count()"
   ]
  },
  {
   "cell_type": "code",
   "execution_count": null,
   "metadata": {},
   "outputs": [],
   "source": [
    "keep=['Gross Monthly Salary','Claims Rate','Cluster_Id']\n",
    "dummies=['Educational Degree','Geographic Living Area','Has Children (Y=1)']\n",
    "dummies=pd.get_dummies(df_dsenv[dummies], drop_first=True)\n",
    "dummies.shape\n",
    "dummies.head()\n",
    "df_dsenv=pd.concat([df_dsenv[keep], dummies],axis=1)"
   ]
  },
  {
   "cell_type": "code",
   "execution_count": null,
   "metadata": {},
   "outputs": [],
   "source": [
    "df_dsenv.head()"
   ]
  },
  {
   "cell_type": "code",
   "execution_count": null,
   "metadata": {},
   "outputs": [],
   "source": [
    "\n",
    "y=df_dsenv['Cluster_Id']\n",
    "y.head()\n",
    "y.shape\n",
    "X=df_dsenv.drop(['Cluster_Id'],axis=1)\n",
    "X.head()"
   ]
  },
  {
   "cell_type": "code",
   "execution_count": null,
   "metadata": {},
   "outputs": [],
   "source": [
    "#Divindo a amostra em validacao e treino, neste caso usou-se a proporcao 70/30\n",
    "\n",
    "from sklearn.model_selection import train_test_split\n",
    "X_train, X_test, y_train, y_test = train_test_split(X, y, test_size=0.2, random_state=123)"
   ]
  },
  {
   "cell_type": "code",
   "execution_count": null,
   "metadata": {},
   "outputs": [],
   "source": [
    "from sklearn.metrics import classification_report\n",
    "from sklearn.metrics import confusion_matrix\n",
    "import numpy as np\n",
    "import matplotlib.pyplot as plt\n",
    "clf = DecisionTreeClassifier(max_depth=3)\n",
    "clf.fit(X_train,y_train)\n",
    "y_pred = clf.predict( X_test)"
   ]
  },
  {
   "cell_type": "code",
   "execution_count": null,
   "metadata": {},
   "outputs": [],
   "source": [
    "pred_scores = clf.predict_proba(X_test)[:,1]\n",
    "X_test['pred']=pred_scores\n",
    "X_test.head()"
   ]
  },
  {
   "cell_type": "code",
   "execution_count": null,
   "metadata": {},
   "outputs": [],
   "source": [
    "importances = pd.DataFrame({'feature':X.columns,'importance':np.round(clf.feature_importances_,3)})\n",
    "importances = importances.sort_values('importance',ascending=False)\n",
    "importances "
   ]
  },
  {
   "cell_type": "code",
   "execution_count": null,
   "metadata": {},
   "outputs": [],
   "source": [
    "keep_2=['Claims Rate','Gross Monthly Salary','Has Children (Y=1)_1','pred']\n",
    "df_vali=pd.concat([X_test[keep_2],y_test],axis=1)\n",
    "df_vali"
   ]
  },
  {
   "cell_type": "code",
   "execution_count": null,
   "metadata": {},
   "outputs": [],
   "source": [
    "df_vali.isnull().sum()"
   ]
  },
  {
   "cell_type": "code",
   "execution_count": null,
   "metadata": {},
   "outputs": [],
   "source": [
    "np.percentile(df_vali['pred'], [10,25,55,80,90], axis=0)"
   ]
  },
  {
   "cell_type": "code",
   "execution_count": null,
   "metadata": {},
   "outputs": [],
   "source": [
    "df_vali.groupby(['Has Children (Y=1)_1'])['pred'].mean()"
   ]
  },
  {
   "cell_type": "code",
   "execution_count": null,
   "metadata": {},
   "outputs": [],
   "source": [
    "df_vali['pred'].describe()"
   ]
  },
  {
   "cell_type": "code",
   "execution_count": null,
   "metadata": {},
   "outputs": [],
   "source": [
    "def f(row):\n",
    "    if row['pred'] <.17:\n",
    "        val = 0\n",
    "    elif row['pred'] >= .17 and row['pred'] <.28:\n",
    "        val = 1\n",
    "    elif row['pred'] >= .28 and row['pred'] <.36:\n",
    "        val = 2\n",
    "    elif row['pred'] >= .36 and row['pred'] <.59:\n",
    "        val = 3\n",
    "    elif row['pred'] >= .59 and row['pred'] <.89:\n",
    "        val = 4\n",
    "    else:\n",
    "        val = 5\n",
    "    return val\n",
    "df_vali['as'] = df_vali.apply(f, axis=1)\n",
    "df_vali.head()"
   ]
  },
  {
   "cell_type": "code",
   "execution_count": null,
   "metadata": {},
   "outputs": [],
   "source": [
    "df_vali.groupby(['as'])['Cluster_Id'].count()\n",
    "#df_vali.groupby(['Has Children (Y=1)_1','as'])['Claims Rate'].mean()\n",
    "df_vali.groupby(['as'])['Claims Rate'].mean()\n",
    "#df_vali.groupby(['as'])['Gross Monthly Salary'].mean()\n",
    "#df_vali.groupby(['Has Children (Y=1)_1','as']).count()\n",
    "#df_vali.groupby(['Has Children (Y=1)_1','as'])[\"Gross Monthly Salary\"].mean()"
   ]
  },
  {
   "cell_type": "code",
   "execution_count": null,
   "metadata": {},
   "outputs": [],
   "source": [
    "y_new=df_dsenv['Cluster_Id']\n",
    "y_new.head()\n",
    "y_new.shape\n",
    "X_new=df_dsenv.drop(['Cluster_Id',\"Claims Rate\"],axis=1)\n",
    "X_new.head()\n",
    "keep_1=['Age']\n",
    "X_new=pd.concat([X_new,df[keep_1]],axis=1)"
   ]
  },
  {
   "cell_type": "code",
   "execution_count": null,
   "metadata": {},
   "outputs": [],
   "source": [
    "X_new.head()"
   ]
  },
  {
   "cell_type": "code",
   "execution_count": null,
   "metadata": {},
   "outputs": [],
   "source": [
    "import numpy\n",
    "from sklearn import linear_model\n",
    "cls = RandomForestRegressor()#c\n",
    "\n",
    "from sklearn.model_selection import train_test_split\n",
    "X_train_n, X_test_n, y_train_n, y_test_n = train_test_split(X_new, y_new, test_size=0.2, random_state=123)\n",
    "cls.fit(X_train_n, y_train_n)\n",
    "scoreOfModel = cls.score(X_train_n, y_train_n)\n"
   ]
  },
  {
   "cell_type": "code",
   "execution_count": null,
   "metadata": {},
   "outputs": [],
   "source": []
  }
 ],
 "metadata": {
  "kernelspec": {
   "display_name": "Python 3",
   "language": "python",
   "name": "python3"
  },
  "language_info": {
   "codemirror_mode": {
    "name": "ipython",
    "version": 3
   },
   "file_extension": ".py",
   "mimetype": "text/x-python",
   "name": "python",
   "nbconvert_exporter": "python",
   "pygments_lexer": "ipython3",
   "version": "3.8.8"
  }
 },
 "nbformat": 4,
 "nbformat_minor": 4
}
